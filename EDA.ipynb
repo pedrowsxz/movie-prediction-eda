{
 "cells": [
  {
   "cell_type": "markdown",
   "id": "5c74a439-ff0e-48fc-bc05-6e8f59975fd9",
   "metadata": {},
   "source": [
    "# Exploratory Data Analysis of IMDB Dataset\n",
    "\n",
    "This notebook provides a comprehensive exploratory data analysis (EDA) of a movie dataset, utilized within the context of a data science project. The analysis is designed to uncover key insights and patterns within the data, followed by a series of relevant questions to deepen understanding. The project will conclude with the development of a predictive model\n",
    "\n",
    "The  objective of this challenge extends beyond descriptive statistics; it aims to demonstrate effective problem-solving skills and creative thinking in addressing business-related questions. To achieve this, hypotheses will be formulated and subsequently tested through data analysis and visualizations.I will generate some hypothesis, then they will be tested by data and visualizations.\n",
    "\n",
    "Throughout the notebook, I will write:\n",
    "- **Code cells** with analysis.  \n",
    "- **Markdown explanations** describing each cell and the reasoning behind each analytical step. \n",
    "- **Interpretations** sumarizing key findings derived from the results after runnig the code.  "
   ]
  },
  {
   "cell_type": "markdown",
   "id": "9c016dc6-28db-4492-8b94-0ed2487680ab",
   "metadata": {},
   "source": [
    "### Step 1: Imports and setting up the environment"
   ]
  },
  {
   "cell_type": "code",
   "execution_count": null,
   "id": "e6257f07-f872-4039-a2f7-df751999cf02",
   "metadata": {},
   "outputs": [],
   "source": [
    "# Imports\n",
    "import re\n",
    "import os\n",
    "import numpy as np\n",
    "import pandas as pd\n",
    "import matplotlib.pyplot as plt\n",
    "import seaborn as sns\n",
    "\n",
    "# Helper for display\n",
    "from IPython.display import display"
   ]
  },
  {
   "cell_type": "markdown",
   "id": "b8c0d64c-a3de-4b03-a149-7f14fb2734b5",
   "metadata": {},
   "source": [
    "# Load the dataset and preview basic information\n",
    "\n",
    "The dataset is provided in CSV format.\n",
    "\n",
    "The dataset is loaded into a pandas DataFrame and its structure inspected with `.info()` to check data types and missing values  \n",
    "Also display a random sample of rows for a first impression of the data.  "
   ]
  },
  {
   "cell_type": "code",
   "execution_count": null,
   "id": "a3edf14a-ca09-4a0b-9825-ee7869a26788",
   "metadata": {},
   "outputs": [],
   "source": [
    "df = pd.read_csv('desafio_indicium_imdb.csv')"
   ]
  },
  {
   "cell_type": "code",
   "execution_count": null,
   "id": "67b186c8-6442-4d76-8e12-c720d82eb1f5",
   "metadata": {},
   "outputs": [],
   "source": [
    "df.info()\n",
    "display(df.sample(5))"
   ]
  },
  {
   "cell_type": "markdown",
   "id": "6e62a75e-f18c-4d87-97be-4d7964b09448",
   "metadata": {},
   "source": [
    "### Some columns were also sampled on text format for a raw visualization of each variable separatedly. "
   ]
  },
  {
   "cell_type": "code",
   "execution_count": null,
   "id": "ccb17b40-c383-4583-af49-3546e0a1c612",
   "metadata": {
    "scrolled": true
   },
   "outputs": [],
   "source": [
    "print('\\nExample raw values for problem columns:')\n",
    "for c in ['Series_Title', 'Released_Year', 'Certificate', 'Runtime', 'Genre', 'IMDB_Rating', 'Meta_score', 'Director', 'No_of_Votes', 'Gross', 'Overview']:\n",
    "    print(f\"\\n--- {c} sample ---\")\n",
    "    print(df[c].sample(5))"
   ]
  },
  {
   "cell_type": "markdown",
   "id": "935a6ae7-1e48-4570-bfe2-4763054c4cde",
   "metadata": {},
   "source": [
    "### Observations from first impressions  \n",
    "\n",
    "- We can already infer what variables are numerical, categorical or text fields.\n",
    "- Columns 'Gross', 'Meta_score' and 'Certificate' have missing values.\n",
    "- Some variables need to be cleaned and converted to numerical:\n",
    "    - **Released_Year**: Stored as strings.  \n",
    "    - **Runtime**: Stored as strings with \"min\", needs conversion to integers.  \n",
    "    - **Gross**: Likely stored with commas and currency symbols, must be parsed into numeric values.  \n",
    "    - **Certificate** and **Genre**: Contain categorical text, will need normalization (e.g., splitting genres).\n",
    "\n",
    "Therefore a data cleaning step will be needed before proceeding to deeper analysis. Proper preprocessing will allow reliable correlations and hypothesis testing.  "
   ]
  },
  {
   "cell_type": "markdown",
   "id": "629b123c-b344-40ca-9150-7b18987c183e",
   "metadata": {},
   "source": [
    "# Hypotheses"
   ]
  },
  {
   "cell_type": "markdown",
   "id": "1d1934f8-c69b-4a4c-8f38-542da7b4361d",
   "metadata": {},
   "source": [
    "\n",
    "These hypotheses will be tested, verified and either proven or disproven during the analysis.\n",
    "\n",
    "### H1: Popularity and Gross Revenue\n",
    "**Hypothesis:** Higher number of votes (popularity) is associated with higher gross revenue.  \n",
    "- Correlation analysis\n",
    "- Scatter plot of `No_of_Votes` vs `Gross`\n",
    "- Group averages by vote quantiles  \n",
    "\n",
    "\n",
    "### H2: Meta Score vs IMDB Rating\n",
    "**Hypothesis:** A higher `Meta_score` does not necessarily mean a higher `IMDB_Rating` (critics vs viewers).  \n",
    "- Correlation analysis\n",
    "- Scatter plot of `Meta_score` vs `IMDB_Rating`\n",
    "- Examine and interpret outliers  \n",
    "\n",
    "\n",
    "### H3: Runtime and IMDB Rating\n",
    "**Hypothesis:** Runtime influences ratings — very short or very long runtimes may correlate with lower or higher IMDB ratings.  \n",
    "- Bin runtimes into categories (short, medium, long)\n",
    "- Compare mean IMDB ratings across bins  \n",
    "\n",
    "\n",
    "### H4: Genre, Gross, and Rating Relationship\n",
    "**Hypothesis:** There is a relationship between genre and both gross revenue and ratings.  \n",
    "- Handle both single and multiple genres (e.g., split genre strings)\n",
    "- Analyze genre combinations and their average gross and ratings\n",
    "- Boxplots of log-transformed gross revenue by genre\n",
    "- Compare means using t-tests or non-parametric tests  \n",
    "\n",
    "\n",
    "### H5: Director and Gross\n",
    "**Hypothesis:** Directors with multiple successful movies (high average gross/rating) may have predictive value.  \n",
    "- Group data by director\n",
    "- Compute mean gross and rating per director\n",
    "- Consider filtering out directors with few movies (low sample size)\n",
    "- Analyze director-wise average gross and rating\n",
    "- Explore trends across multiple movies per director  \n",
    "\n",
    "\n",
    "### H6: Star and Gross\n",
    "**Hypothesis:** Actors (stars) influence gross and rating; combinations of directors and stars may have a compounding effect.  \n",
    "- Analyze stars and directors separately\n",
    "- Test combinations of stars + directors and their joint impact on gross/rating  \n",
    "\n",
    "\n",
    "### H7: External Data - Streaming Trends\n",
    "**Hypothesis:** Streaming platform releases (e.g., Netflix, Amazon) influence trends in gross and ratings.    \n",
    "- Compare movies released on streaming platforms vs theatrical\n",
    "- Examine counts, gross, and ratings by platform\n",
    "\n",
    "---"
   ]
  },
  {
   "cell_type": "markdown",
   "id": "4616309b-d156-4aec-ae81-708cdeca4447",
   "metadata": {},
   "source": [
    "# Data cleaning and creation of new columns\n",
    "Now that the raw data was inspected, the necessary transformations can be applied and new columns can be created to prepare the dataset for analysis."
   ]
  },
  {
   "cell_type": "markdown",
   "id": "88288ef2-decb-4b3a-92bb-01ec509f4891",
   "metadata": {},
   "source": [
    "#### Cleaning of numerical columns"
   ]
  },
  {
   "cell_type": "code",
   "execution_count": null,
   "id": "19ccb0de-c94a-4a80-9dd5-70aee18de10c",
   "metadata": {},
   "outputs": [],
   "source": [
    "# Cell: apply cleaning\n",
    "# Gross\n",
    "def parse_money(x):\n",
    "    if pd.isna(x):\n",
    "        return np.nan\n",
    "    try:\n",
    "        return float(str(x).replace(',', ''))\n",
    "    except:\n",
    "        return np.nan\n",
    "df['Gross_clean'] = df['Gross'].apply(parse_money)\n",
    "\n",
    "# Runtime\n",
    "# no need for null checks on runtime, because as inspected, there are no missing values on this column\n",
    "df['Runtime_clean'] = df[\"Runtime\"].str.replace(\" min\", \"\").astype('Int64') \n",
    "\n",
    "# Year\n",
    "df['Released_Year'] = pd.to_numeric(df['Released_Year'], errors='coerce').astype('Int64')"
   ]
  },
  {
   "cell_type": "markdown",
   "id": "9a694480-21de-474a-91b8-facd8bbae7f9",
   "metadata": {},
   "source": [
    "#### Text columns\n",
    "Since 'Genre' has sometimes 1, 2 or 3 listed on the same column, I created a 'Genre_list' and 'Num_genres' variables that will be useful for analysis. "
   ]
  },
  {
   "cell_type": "code",
   "execution_count": null,
   "id": "31f52fee-4773-4502-8c01-ac6717d2516e",
   "metadata": {},
   "outputs": [],
   "source": [
    "# Genres\n",
    "df['Genre_list'] = df['Genre'].fillna('').apply(lambda s: [g.strip() for g in s.split(',')] if s!='' else [])\n",
    "df['Num_genres'] = df['Genre_list'].apply(len)"
   ]
  },
  {
   "cell_type": "markdown",
   "id": "6e456602-de23-4ef6-b221-cd86a2be2fa0",
   "metadata": {},
   "source": [
    "#### Quick Validation\n",
    "\n",
    "After the data cleaning steps, the newly created columns are displayed in a sample table for inspection, and their data types are verified to ensure correctness."
   ]
  },
  {
   "cell_type": "code",
   "execution_count": null,
   "id": "cee254cb-adff-4dd7-bd9b-fe860a97975c",
   "metadata": {},
   "outputs": [],
   "source": [
    "# Table visualization\n",
    "display(df[['Series_Title', 'Runtime_clean', 'Gross_clean', 'Genre_list']].sample(5))\n",
    "\n",
    "# Type check\n",
    "print(df.dtypes)"
   ]
  },
  {
   "cell_type": "markdown",
   "id": "2f513e71-4430-48f2-b641-2dede37d2dd3",
   "metadata": {},
   "source": [
    "##### Numeric columns assigned to a variable"
   ]
  },
  {
   "cell_type": "markdown",
   "id": "ae290117-e137-4a7f-813d-e55ecc8ef538",
   "metadata": {},
   "source": [
    "#### Statistical summary of the new columns\n",
    "To understand the general characteristics of the dataset, we compute descriptive statistics for key numeric columns:  \n",
    "We use `.describe()` to obtain counts, means, standard deviations, quartiles, and ranges. This gives us a first quantitative overview and helps identify potential outliers.  "
   ]
  },
  {
   "cell_type": "code",
   "execution_count": null,
   "id": "29e50006-ee26-406a-80f8-d2c8df056f35",
   "metadata": {},
   "outputs": [],
   "source": [
    "numeric_cols = ['Released_Year','Runtime_clean','IMDB_Rating','Meta_score','Gross_clean','Num_genres']\n",
    "df[numeric_cols].describe().transpose()"
   ]
  },
  {
   "cell_type": "markdown",
   "id": "d4ebfe28-da4d-43fd-976d-6be89d40a374",
   "metadata": {},
   "source": [
    "#### Observations from Data Cleaning\n",
    "\n",
    "From the descriptive statistics:  \n",
    "\n",
    "- **Released_Year**  \n",
    "   - Most movies are recent (25th percentile = 1976, 75th percentile = 2009).  \n",
    "   - The range goes back to 1920, showing some older films are included.  \n",
    "\n",
    "- **Runtime_clean**  \n",
    "   - Average runtime is ~123 minutes.  \n",
    "   - Some extreme values (min = 45, max = 321) might represent unusually short or very long movies.  \n",
    "\n",
    "- **IMDB_Rating**  \n",
    "   - Ratings are tightly clustered (mean ~7.95, std ~0.27), indicating most movies are generally well-rated.  \n",
    "   - Range from 7.6 to 9.2 — no very low-rated films in this dataset.  \n",
    "\n",
    "- **Meta_score**  \n",
    "   - Some missing values (count = 842 out of 999).  \n",
    "   - Mean ~78, indicating mostly positive critical reception.  \n",
    "\n",
    "- **Gross_clean**  \n",
    "   - Highly skewed distribution (mean = 68M, max = 936M).  \n",
    "   - The large standard deviation suggests strong outliers (blockbusters).  \n",
    "\n",
    "- **Num_genres**  \n",
    "   - Most movies have 2–3 genres; single-genre movies are rare.\n",
    "\n",
    "With the data cleaned and initial checks complete, we can now move on to **visual exploration of numeric variables**, which will help reveal patterns, distributions, and potential relationships between movie characteristics and box office success.  "
   ]
  },
  {
   "cell_type": "markdown",
   "id": "61eb9654-e30b-4a9b-aef6-ddcbea598987",
   "metadata": {},
   "source": [
    "# Plotting of numeric variables\n",
    "#### Distribution of IMDB_Rating, Meta_score, Runtime and Gross\n",
    "With the dataset cleaned and modified, we now turn to visual exploration of numeric variables.  \n",
    "This helps us understand the **distribution and variability** of key movie features.  \n",
    "\n",
    "We’ll focus on:  \n",
    "- **IMDB Rating** (audience evaluation)  \n",
    "- **Meta Score** (critic evaluation)  \n",
    "- **Runtime** (movie duration in minutes)  \n",
    "- **Gross** (box office revenue, log-transformed to reduce skewness)  "
   ]
  },
  {
   "cell_type": "code",
   "execution_count": null,
   "id": "ddfc7074-1d35-4453-a3d5-6498b7994dbb",
   "metadata": {},
   "outputs": [],
   "source": [
    "fig, axs = plt.subplots(2, 2, figsize=(12, 10))  # Create 2x2 grid\n",
    "\n",
    "# Distribution of IMDB ratings\n",
    "sns.histplot(df[\"IMDB_Rating\"], bins=20, kde=True, ax=axs[0, 0])\n",
    "axs[0, 0].set_title(\"Distribution of IMDB Ratings\")\n",
    "\n",
    "# Distribution of Meta score\n",
    "sns.histplot(df['Meta_score'].dropna(), bins=20, kde=True, ax=axs[0, 1])\n",
    "axs[0, 1].set_title('Meta score distribution')\n",
    "axs[0, 1].set_xlabel('Meta_score')\n",
    "\n",
    "# Distribution of Runtime\n",
    "sns.histplot(df[\"Runtime_clean\"], bins=50, kde=True, ax=axs[1, 0])\n",
    "axs[1, 0].set_title(\"Distribution of Movie Runtimes\")\n",
    "\n",
    "# Distribution of Gross (logarithmic)\n",
    "sns.histplot(np.log1p(df['Gross_clean'].dropna()), bins=50, kde=True)\n",
    "plt.title('Distribution of log(1 + Gross)')\n",
    "plt.show()\n",
    "\n",
    "plt.tight_layout()  # Adjust spacing between plots\n",
    "plt.show()"
   ]
  },
  {
   "cell_type": "markdown",
   "id": "dd9b89fd-5670-4df5-867b-07c6c09f1210",
   "metadata": {},
   "source": [
    "#### Releases per Year\n",
    "Since there is too many years and I wanted to show them all, i made a bigger graphic with bars for each year from 1920 to 2020."
   ]
  },
  {
   "cell_type": "code",
   "execution_count": null,
   "id": "c3afb4c2-4269-413f-8f69-41826bd56537",
   "metadata": {},
   "outputs": [],
   "source": [
    "# Movie releases over time\n",
    "plt.figure(figsize=(14, 8))\n",
    "sns.countplot(x=\"Released_Year\", data=df, order=sorted(df[\"Released_Year\"].dropna().unique()))\n",
    "plt.xticks(rotation=90,fontsize=8)\n",
    "plt.title(\"Number of Movies Released per Year\")\n",
    "plt.show()"
   ]
  },
  {
   "cell_type": "markdown",
   "id": "5723fca3-f235-49ff-b53a-3fbe8aaf6410",
   "metadata": {},
   "source": [
    "#### Observations\n",
    "\n",
    "- **IMDB Ratings**: The histogram is heavily concentrated between 7.7 and 8.1, and a distribution with very little variation. Outliers on the high side (9.0–9.2) correspond to classics such as The Dark Knight and Pulp Fiction. This indicates the dataset is curated toward high-quality films.\n",
    "\n",
    "- **Meta Score**:The histogram shows a roughly normal distribution, centered around 75–80, with tails down to ~30. A cluster at the top (90–100) indicates critically acclaimed films\n",
    "\n",
    "- **Runtime**:Runtimes vary between 110–130 minutes, with a mode expected around 120 min. Some values are quite long.\n",
    "\n",
    "- **Gross**:The Gross log histogram smooths the extreme skew, showing a more balanced spread. A few mega-hits (500M) dominate the high end, while most films cluster around 50M–100M.\n",
    "\n",
    "- **Released_Year**: The count plot shows a sharp increase from 1990 onward, peaking in the 2000s and 2010s. Very few films appear before 1960. This confirms a sampling bias: the dataset is not representative of all movies but of notable/recognized ones. Year must always be included as a control to avoid spurious trends.\n",
    "\n",
    "**Important**: Gross must be inflation-adjusted for fair comparisons across decades. Without that, older movies may look artificially “small” compared to modern blockbusters."
   ]
  },
  {
   "cell_type": "markdown",
   "id": "6e86290f-1b40-4df9-a1c9-b12738e0be12",
   "metadata": {},
   "source": [
    "# Exploring Categorical Columns\n",
    "\n",
    "Now, the categorical attributes will be explored in text form. The vizualizations will be showed when doing the bivariate analysis.\n",
    "Checking the most frequent values for:  \n",
    "- **Directors**  \n",
    "- **Actors (Star1, Star2, Star3)**  \n",
    "- **Certificates**  \n",
    "- **Genres**  "
   ]
  },
  {
   "cell_type": "markdown",
   "id": "b65038ab-b970-4eb7-b07c-1d3bcd68f5e8",
   "metadata": {},
   "source": [
    "### Directors and Stars"
   ]
  },
  {
   "cell_type": "code",
   "execution_count": null,
   "id": "0c440c84-8368-45b2-b4ca-002d8ed3ec31",
   "metadata": {
    "scrolled": true
   },
   "outputs": [],
   "source": [
    "print('\\nTop directors:')\n",
    "display(df['Director'].value_counts().head(10))\n",
    "\n",
    "print('\\nTop Star1 actors:')\n",
    "display(df['Star1'].value_counts().head(10))\n",
    "\n",
    "print('\\nTop Star2 actors:')\n",
    "display(df['Star2'].value_counts().head(10))\n",
    "\n",
    "print('\\nTop Star3 actors:')\n",
    "display(df['Star3'].value_counts().head(10))"
   ]
  },
  {
   "cell_type": "markdown",
   "id": "18bc37cf-0df3-4a1a-bca5-67c6f101f1a8",
   "metadata": {},
   "source": [
    "### Genres"
   ]
  },
  {
   "cell_type": "code",
   "execution_count": null,
   "id": "9503f0ed-a700-40f1-a680-b7e8c611ba41",
   "metadata": {},
   "outputs": [],
   "source": [
    "genre_counts = df['Genre_list'].explode().value_counts()\n",
    "print('\\nTop Genres:')\n",
    "display(genre_counts.head(10))\n",
    "\n",
    "print('\\nTop Genre Combinations:')\n",
    "display(df['Genre'].value_counts().head(10))"
   ]
  },
  {
   "cell_type": "markdown",
   "id": "f050b982-ba7a-4698-8593-f05ff2f852fa",
   "metadata": {},
   "source": [
    "### Certificates"
   ]
  },
  {
   "cell_type": "code",
   "execution_count": null,
   "id": "9e68eadd-361f-40e0-9399-db6891bf8501",
   "metadata": {},
   "outputs": [],
   "source": [
    "print('\\nTop Certificates:')\n",
    "display(df['Certificate'].value_counts())"
   ]
  },
  {
   "cell_type": "markdown",
   "id": "0d823e88-1479-4529-9d6e-f9711b225965",
   "metadata": {},
   "source": [
    "#### Observations\n",
    "\n",
    "- The dataset highlights many of the most influential filmmakers. This again shows the dataset is curated toward canonical cinema classics and auteur directors dominate, rather than random sampling of movies.  \n",
    "Many top actors are tied to franchises, which may drive gross figures disproportionately.\n",
    "\n",
    "- Most frequent: Drama (723), Comedy (233), Crime (209), Adventure (196), Action (189).\n",
    "Drama alone accounts for ~72% of all films (often combined with other genres).  \n",
    "The dataset is dominated by Drama, either solo or in combinations. Lighter genres like Animation, Romance, and Mystery are present but smaller.\n",
    "\n",
    "\n",
    "- Most frequent: U (234), A (196), UA (175), and R (146).  \n",
    "American ratings (PG, PG-13, R) appear, but Indian-style ratings (U, UA, A) are much more frequent.\n",
    "\n",
    "**Hypothesis**: Genre mix likely affects both ratings and gross. For instance, dramas may dominate IMDB ratings, while action/adventure may dominate gross"
   ]
  },
  {
   "cell_type": "markdown",
   "id": "8408d005-6ad9-4ed8-b37f-efef194ef633",
   "metadata": {},
   "source": [
    "# Bivariate Analysis"
   ]
  },
  {
   "cell_type": "markdown",
   "id": "ff323627-68ba-4756-b82d-fc5545cd207b",
   "metadata": {},
   "source": [
    "## Correlation Heatmap \n",
    "To understand how the main numerical variables relate to each other, we calculate the correlation matrix. This helps identify whether variables move together (positive correlation) or in opposite directions (negative correlation). Strong correlations may suggest redundancy or predictive relationships.\n",
    "\n",
    "Hypotheses tested and verified:  \n",
    "- Higher No_of_Votes (popularity) is associated with higher Gross. (Test: correlation + scatter plot + group averages by vote quantile.)  \n",
    "- Higher Meta_score does not necessarily mean higher IMDB_Rating (critics vs viewers). (Test: correlation + scatter + examine outliers.)  \n",
    "- Runtime influences ratings (very short/very long runtimes may correlate with lower/higher IMDB ratings). (Test: runtime bins vs mean rating.)\n",
    "- Released_Year influences Meta_score (older movies might have higher Meta_score). (Test: correlation + scatter + examine outliers.)    "
   ]
  },
  {
   "cell_type": "code",
   "execution_count": null,
   "id": "74e868a3-6992-48ad-bec6-14a51a4bc4b9",
   "metadata": {},
   "outputs": [],
   "source": [
    "corr = df[[\"Released_Year\", \"IMDB_Rating\", \"Meta_score\", \"No_of_Votes\", \"Gross_clean\", \"Runtime_clean\"]].corr()\n",
    "sns.heatmap(corr, annot=True, cmap=\"coolwarm\")\n",
    "plt.title(\"Correlation Between Numeric Variables\")\n",
    "plt.show()"
   ]
  },
  {
   "cell_type": "code",
   "execution_count": null,
   "id": "ba37c566-d230-4171-afa5-2857f1ff5aab",
   "metadata": {},
   "outputs": [],
   "source": [
    "corr = df[[\"Released_Year\", \"IMDB_Rating\", \"Meta_score\", \"No_of_Votes\", \"Gross_clean\", \"Runtime_clean\"]].corr()\n",
    "print(corr)"
   ]
  },
  {
   "cell_type": "markdown",
   "id": "73c01c7c-9ce5-4e34-9507-913a5b70bbe3",
   "metadata": {
    "jp-MarkdownHeadingCollapsed": true
   },
   "source": [
    "#### From the correlation matrix, we can infer that:\n",
    "\n",
    "- IMDB Rating & No. of Votes: 0.48  \n",
    "    Popular movies (more votes) tend to have slightly higher ratings.\n",
    "\n",
    "- IMDB Rating & Meta_score: 0.27  \n",
    "  There’s a small tendency for critics and audience ratings to align, but not strongly. Often they diverge.\n",
    "  \n",
    "- Gross_clean & No. of Votes: 0.59  \n",
    "     Higher-grossing movies typically receive more votes — likely due to wider distribution and audience exposure.\n",
    "\n",
    "- Released Year & Meta_score: -0.34  \n",
    "    Older movies may have slightly higher MetaScores, or newer movies score lower on MetaScore. Could reflect shifting critic standards or nostalgia bias.\n",
    "\n",
    "- Released Year & Gross_clean: 0.23  \n",
    "  More recent movies tend to make slightly more money, likely due to inflation or larger market reach.\n",
    "\n",
    "- Runtime & IMDB Rating: 0.24  \n",
    "  Slight trend suggesting longer movies may receive better ratings. Which\n",
    "\n",
    "- Gross_clean & IMDB Rating: 0.10  \n",
    "  High-grossing movies don’t necessarily have higher IMDB ratings. Box office and quality (as perceived by users) are weakly related."
   ]
  },
  {
   "cell_type": "markdown",
   "id": "b08dac9e-67be-4728-9de3-ecd07df79501",
   "metadata": {},
   "source": [
    "### Scatterplot of correlations\n",
    "The most meaningful correlations are scattered for a better visualization of outliers and other notable patterns.\n",
    "- Meta_score and Released_Year\n",
    "- Gross_clean and Released_Year\n",
    "- IMDB_Rating and Meta_score\n",
    "- IMDB_Rating and Runtime_clean"
   ]
  },
  {
   "cell_type": "code",
   "execution_count": null,
   "id": "ad3d4b8f-8ad7-4c77-826e-b46a49e99437",
   "metadata": {},
   "outputs": [],
   "source": [
    "plt.figure(figsize=(13, 8))\n",
    "# Meta_score vs Released_Year\n",
    "sns.scatterplot(data=df, x=\"Released_Year\", y=\"Meta_score\", alpha=0.6)\n",
    "plt.title(\"Meta_score vs Released_Year\")\n",
    "plt.show()"
   ]
  },
  {
   "cell_type": "code",
   "execution_count": null,
   "id": "a7bc2569-dc21-4eb1-8fd7-f6624fbad420",
   "metadata": {},
   "outputs": [],
   "source": [
    "plt.figure(figsize=(13, 8))\n",
    "# Gross_clean vs Released_Year\n",
    "sns.scatterplot(data=df, x=\"Released_Year\", y=\"Gross_clean\", alpha=0.6)\n",
    "plt.title(\"Released_Year vs Gross_clean\")\n",
    "plt.show()"
   ]
  },
  {
   "cell_type": "code",
   "execution_count": null,
   "id": "dcd7e2a7-42a5-4e5d-b9b0-59b42dc64de3",
   "metadata": {},
   "outputs": [],
   "source": [
    "# Create a 1x2 subplot\n",
    "fig, axes = plt.subplots(1, 2, figsize=(13, 6))\n",
    "# IMDB_Rating vs Meta_score\n",
    "sns.scatterplot(data=df, x=\"IMDB_Rating\", y=\"Meta_score\", alpha=0.6, ax=axes[0])\n",
    "axes[0].set_title(\"IMDB Rating vs Meta_score\")\n",
    "\n",
    "# IMDB_Rating vs Runtime_clean\n",
    "sns.scatterplot(data=df, x=\"IMDB_Rating\", y=\"Runtime_clean\", alpha=0.6, ax=axes[1])\n",
    "axes[1].set_title(\"IMDB Rating vs Runtime_clean\")"
   ]
  },
  {
   "cell_type": "markdown",
   "id": "17d61cdd-84d2-4ece-89cd-c32ffdc0db3e",
   "metadata": {},
   "source": [
    "#### Scatterplot insights\n",
    "\n",
    "- Recent films show wider variation but slightly lower critic scores on average.\n",
    "\n",
    "- Outliers: Some older movies with exceptional box office success (e.g., Titanic) still stand out against newer blockbusters.\n",
    "\n",
    "- IMDB_Rating vs Meta_score\n",
    "\n",
    "- Slightly positive relationship between IMDB_Rating and Meta_score, showing that audiences and critics often agree. However, scatter indicates differences in evaluation:  \n",
    "    . Some movies loved by fans but not critics (high IMDB, low Meta).  \n",
    "    . Some movies praised by critics but underappreciated by audiences (high Meta, lower IMDB).  \n",
    "Outliers are interesting cases worth highlighting (cult classics or divisive films).\n",
    "\n",
    "- Weak but noticeable positive association between IMDB_Rating and Runtime_clean. However, the scatter is wide, both short and long movies can achieve high or low ratings."
   ]
  },
  {
   "cell_type": "markdown",
   "id": "5874816d-8ef5-4132-b3d1-c24ba6d061b7",
   "metadata": {},
   "source": [
    "# Questions"
   ]
  },
  {
   "cell_type": "markdown",
   "id": "fbf59c22-0469-4bc6-b349-42bf87bcba10",
   "metadata": {},
   "source": [
    "### Movie Recommendation for an Unknown Viewer"
   ]
  },
  {
   "cell_type": "markdown",
   "id": "9290f390-2304-4538-87c5-0b4144b1c930",
   "metadata": {},
   "source": [
    "To provide an objective and justifiable recommendation, we define criteria based on widely accepted indicators of movie quality and popularity, we have to think about a general audience: something widely appealing, well-received, and accessible.  \n",
    "A good general recommendation should ideally satisfy:  \n",
    "- High IMDb rating – indicates strong general audience approval.\n",
    "- High number of votes – ensures that the rating is reliable and not from just a few people.\n",
    "- Decent box office/gross – usually means it had broad appeal.\n",
    "- Popular genre – something many people like, like Adventure, Comedy, Action, or Family.  \n",
    "\n",
    "For broader appeal, movies can also be filtered by certificate or runtime, e.g. movies under 2 hours, to increase the likelihood that a general audience will enjoy them. So:\n",
    "- Accessible runtime, not too long or too short.\n",
    "- Avoid movies with very restrictive certifications for a general audience recommendation.\n",
    "\n",
    "By applying this, we identify movies that are popular, highly rated, and statistically significant. These are safe recommendations for someone whose preferences are unknown."
   ]
  },
  {
   "cell_type": "code",
   "execution_count": null,
   "id": "402f829c-87c7-42cc-9314-92749243418e",
   "metadata": {},
   "outputs": [],
   "source": [
    "# Filter criteria\n",
    "recommended = df[\n",
    "    (df['IMDB_Rating'] >= 8.5) & # high rating\n",
    "    (df['No_of_Votes'] >= 10000) & # enough votes\n",
    "    (df['Gross_clean'].notna()) &\n",
    "    (df['Runtime_clean'] >= 90) & (df['Runtime_clean'] <= 180) & # reasonable runtime\n",
    "    (df['Released_Year'] >= 1990) & # not too old\n",
    "    (~df['Certificate'].isin(['A', 'R'])) # reasonable restriction\n",
    "]\n",
    "\n",
    "# Sort by rating and votes\n",
    "recommended = recommended.sort_values(by=['IMDB_Rating', 'No_of_Votes'], ascending=False)\n",
    "\n",
    "# Show top recommendation\n",
    "top_movie = recommended.iloc[0]\n",
    "print(top_movie[['Series_Title', 'Released_Year', 'Genre', 'IMDB_Rating', 'No_of_Votes', 'Director', 'Star1']])"
   ]
  },
  {
   "cell_type": "markdown",
   "id": "c57d572f-c813-4c17-aca1-b74eab78f605",
   "metadata": {},
   "source": [
    "This is a nice recommendation that fills all the checks:   \n",
    "\n",
    "- IMDb Rating: Very high (9+), universally recognized as excellent.  \n",
    "- Number of Votes: Large enough to trust the score.  \n",
    "- Genre: Action with broad appeal.  \n",
    "- Standard runtime and certificate not so restricted makes it accessible for most audiences.  \n",
    "- Superhero movies are widely appealing.  \n",
    "- Famous celebrities.  \n",
    "\n",
    "For someone I don’t know, I would recommend “The Dark Knight”."
   ]
  },
  {
   "cell_type": "markdown",
   "id": "dbf02884-6ca0-4d5d-8984-dca169e8baf3",
   "metadata": {},
   "source": [
    "### What are the main factors associated with a high box office revenue for a film?"
   ]
  },
  {
   "cell_type": "markdown",
   "id": "882a887e-c9af-4b9d-b389-d5ad3a747014",
   "metadata": {},
   "source": [
    "So in this question the 'Gross' column will be compared to all the others.   \n",
    "From the analysis made using the correlation matrix, we already know the numerical variables that are associated with 'Gross'.  \n",
    "\n",
    "- No_of_Votes: 0.59 (strongest)  \n",
    "- Released_Year: 0.23 (newer films tend to gross more)  \n",
    "- Runtime: 0.14 (tiny positive)  \n",
    "\n",
    "Considerations:  \n",
    "Gross_clean missing for ~16.9% of films; Meta_score missing for ~15.7%.\n",
    "This sample is biased toward well-rated movies (top IMDb titles), so results reflect “high-quality / popular” films rather than the full market.\n",
    "The inflation can overstate the advantage of newer films."
   ]
  },
  {
   "cell_type": "markdown",
   "id": "20fc27fe-bc14-42a0-95b7-d9adb9c8f345",
   "metadata": {},
   "source": [
    "#### Comparing Gross with text columns\n",
    "\n",
    "We now assess categorical drivers of revenue. We group by multi-genre combinations and individual genres (after splitting), then by director and lead actor. To reduce noise, we filter to categories with adequate support (n > 10 for genres, n > 5 for directors/actors). Our hypotheses: tentpole genres, proven directors, and major stars will show higher average grosses."
   ]
  },
  {
   "cell_type": "markdown",
   "id": "ba536cde-7b58-4d73-acf9-0e1e3f0dc3b4",
   "metadata": {
    "jp-MarkdownHeadingCollapsed": true
   },
   "source": [
    "##### Gross per genre"
   ]
  },
  {
   "cell_type": "markdown",
   "id": "152443c4-1e13-47d4-bcc8-cbdd85c11988",
   "metadata": {},
   "source": [
    "We test whether some genres systematically earn more. Because movies often have multiple genres, we analyze both:  \n",
    "- Genre combos (exact strings) and\n",
    "- Individual genres via Genre_list = Genre.str.split(\", \") + explode.\n",
    "To avoid noise, we filter to categories with n > 10.\n",
    "\n",
    "##### Top multi-genre combos by avg gross (n>10):  \n",
    "- Action, Adventure, Sci-Fi = \\$281M (n=21)\n",
    "- Animation, Adventure, Comedy = \\$225M (n=20)\n",
    "- Action, Adventure, Drama = \\$222M (n=12)\n",
    "\n",
    "##### Top single genres by avg gross (n>10):\n",
    "- Adventure = \\$166M (n=170)\n",
    "- Sci-Fi = \\$148M (n=61)\n",
    "- Action = \\$141M (n=156)\n",
    "- Animation = \\$128M (n=67)\n",
    "\n",
    "As expected, Action/Adventure/Sci-Fi and family-friendly Animation combos dominate by average gross (e.g., Action-Adventure-Sci-Fi = 281M). For single genres, Adventure (166M), Sci-Fi (148M), Action (141M), and Animation (128M) lead—consistent with broad appeal and franchise potential."
   ]
  },
  {
   "cell_type": "code",
   "execution_count": null,
   "id": "a7b0346c-fc35-433b-a4d6-b731bcf7e9f1",
   "metadata": {},
   "outputs": [],
   "source": [
    "# Group by the 'Genre' column\n",
    "genre_stats = (\n",
    "    df.groupby(\"Genre\")\n",
    "      .agg(\n",
    "          Count=('Gross_clean', 'count'),\n",
    "          AvgGross=('Gross_clean', 'mean')\n",
    "      )\n",
    ")\n",
    "\n",
    "# Filter out rare genres (less than 10 movies)\n",
    "genre_stats = genre_stats[genre_stats['Count'] > 10].sort_values('AvgGross', ascending=False)\n",
    "\n",
    "# Format AvgGross as currency\n",
    "genre_stats['AvgGross'] = genre_stats['AvgGross'].map('${:,.2f}'.format)\n",
    "\n",
    "# Display the top 10 genres by average gross\n",
    "print(genre_stats.head(10))"
   ]
  },
  {
   "cell_type": "markdown",
   "id": "fdd1b6ca-9f50-4641-8652-47758f956ef0",
   "metadata": {},
   "source": [
    "##### Using Genre_list to see if the word appears"
   ]
  },
  {
   "cell_type": "code",
   "execution_count": null,
   "id": "e623f98b-9c66-4997-819b-659dfae038b3",
   "metadata": {},
   "outputs": [],
   "source": [
    "# Explode Genre_list so each genre gets its own row\n",
    "df_exploded = df.explode(\"Genre_list\")\n",
    "\n",
    "# Group by individual genres\n",
    "genre_stats = (\n",
    "    df_exploded.groupby(\"Genre_list\")\n",
    "    .agg(\n",
    "        Count=('Gross_clean', 'count'),\n",
    "        AvgGross=('Gross_clean', 'mean')\n",
    "    )\n",
    ")\n",
    "\n",
    "genre_stats = genre_stats[genre_stats['Count'] > 10].sort_values('AvgGross', ascending=False)\n",
    "\n",
    "genre_stats['AvgGross'] = genre_stats['AvgGross'].map('${:,.2f}'.format)\n",
    "\n",
    "print(genre_stats.head(10))"
   ]
  },
  {
   "cell_type": "markdown",
   "id": "aa479640-8958-4447-ab91-a58b0f3f5700",
   "metadata": {
    "jp-MarkdownHeadingCollapsed": true
   },
   "source": [
    "##### Gross per Director and Star1"
   ]
  },
  {
   "cell_type": "markdown",
   "id": "0ff7a8b9-4ba7-4a6f-8151-b41c790fe5d0",
   "metadata": {},
   "source": [
    "We check whether certain directors or lead actors (Star1) are associated with higher grosses. To minimize small-sample noise, we keep creators with >5 films in the dataset.  \n",
    "\n",
    "##### Directors:  \n",
    "- Christopher Nolan — avg = \\$242M (n=8)\n",
    "- Steven Spielberg — avg = \\$191M (n=13)\n",
    "- Ridley Scott — avg = \\$128M (n=6)\n",
    "\n",
    "Directors with consistent blockbuster access (e.g., Christopher Nolan ≈ 242M avg; Steven Spielberg ≈ 191M) are associated with higher grosses, likely capturing budget, IP, and marketing scale in addition to brand reputation. \n",
    "\n",
    "##### Lead actors:\n",
    "- Daniel Radcliffe — avg = \\$305M (n=9)\n",
    "- Johnny Depp — avg = \\$61M (n=12)\n",
    "- Christian Bale — avg = \\$169M (n=8)\n",
    "\n",
    "Celebrity power appears associated with higher grosses, though it’s often entangled with genre and director, again, plausibly reflecting access to larger commercial projects."
   ]
  },
  {
   "cell_type": "markdown",
   "id": "74b205d6-c876-4b96-a7c0-e2ed3288b64c",
   "metadata": {},
   "source": [
    "#### Director"
   ]
  },
  {
   "cell_type": "code",
   "execution_count": null,
   "id": "4c232d28-d298-49f0-ab1e-8f87af35aa26",
   "metadata": {},
   "outputs": [],
   "source": [
    "# Group by 'Director'\n",
    "genre_stats = (\n",
    "    df.groupby(\"Director\")\n",
    "      .agg(\n",
    "          Count=('Gross_clean', 'count'),\n",
    "          AvgGross=('Gross_clean', 'mean')\n",
    "      )\n",
    ")\n",
    "\n",
    "genre_stats = genre_stats[genre_stats['Count'] > 5].sort_values('AvgGross', ascending=False)\n",
    "\n",
    "genre_stats['AvgGross'] = genre_stats['AvgGross'].map('${:,.2f}'.format)\n",
    "\n",
    "print(genre_stats.head(10))"
   ]
  },
  {
   "cell_type": "markdown",
   "id": "7bd838b1-6484-4394-86c5-ab054776cce4",
   "metadata": {},
   "source": [
    "#### Star1"
   ]
  },
  {
   "cell_type": "code",
   "execution_count": null,
   "id": "4770d44a-15dd-4198-8f14-6f68f2662739",
   "metadata": {},
   "outputs": [],
   "source": [
    "# Group by 'Star1'\n",
    "genre_stats = (\n",
    "    df.groupby(\"Star1\")\n",
    "      .agg(\n",
    "          Count=('Gross_clean', 'count'),\n",
    "          AvgGross=('Gross_clean', 'mean')\n",
    "      )\n",
    ")\n",
    "\n",
    "genre_stats = genre_stats[genre_stats['Count'] > 5].sort_values('AvgGross', ascending=False)\n",
    "\n",
    "genre_stats['AvgGross'] = genre_stats['AvgGross'].map('${:,.2f}'.format)\n",
    "\n",
    "print(genre_stats.head(10))"
   ]
  },
  {
   "cell_type": "markdown",
   "id": "2dcf0aa1-8a54-4d28-8bc7-7a2e3b2dbd6c",
   "metadata": {},
   "source": [
    "##### Gross per Certificate"
   ]
  },
  {
   "cell_type": "markdown",
   "id": "b97f77b5-8a61-4b37-9119-354d3ad162b8",
   "metadata": {},
   "source": [
    "Broad-audience categories are associated with higher grosses.  \n",
    "UA/U (parental guidance/family-friendly) have much higher averages than R/A."
   ]
  },
  {
   "cell_type": "code",
   "execution_count": null,
   "id": "8b08267f-008b-4ca1-93d2-d9c144a4d55a",
   "metadata": {},
   "outputs": [],
   "source": [
    "# Group by 'Certificate'\n",
    "genre_stats = (\n",
    "    df.groupby(\"Certificate\")\n",
    "      .agg(\n",
    "          Count=('Gross_clean', 'count'),\n",
    "          AvgGross=('Gross_clean', 'mean')\n",
    "      )\n",
    "      .sort_values('AvgGross', ascending=False)\n",
    ")\n",
    "\n",
    "genre_stats['AvgGross'] = genre_stats['AvgGross'].map('${:,.2f}'.format)\n",
    "\n",
    "print(genre_stats.head(10))"
   ]
  },
  {
   "cell_type": "markdown",
   "id": "f05ef9f1-a152-410c-a309-3a0ead7aeef2",
   "metadata": {},
   "source": [
    "#### Conclusion\n",
    "\n",
    "Answering the question, what drives the box office in this dataset are these factors:\n",
    "\n",
    "- Reach/awareness (No_of_Votes) is the clearest driver. Marketing scale, distribution breadth, and franchise fandom matter most.\n",
    "- Commercial genres (Action/Adventure/Sci-Fi) are associated with higher revenue—broad appeal + effects + franchiseability.\n",
    "- Proven directors and top-billed stars correlate with higher grosses—likely because they attract budgets, marketing, and global releases.\n",
    "- Release year / market scale helps (inflation, global box office)—but the effect is second-order after popularity.\n",
    "- Ratings and runtime have weak direct links; great movies can underperform commercially and vice-versa."
   ]
  },
  {
   "cell_type": "markdown",
   "id": "3bcded46-ed53-431c-be87-f27101fd5c07",
   "metadata": {},
   "source": [
    "### What insights can be derived from the \"Overview\" column? Is it possible to infer the genre of the movie from this column?"
   ]
  },
  {
   "cell_type": "markdown",
   "id": "ecc4ae9b-dc40-49c0-99f6-a3cdee103798",
   "metadata": {},
   "source": [
    "##### Exploring the \"Overview\" Column by Genre\n",
    "\n",
    "The Overview column contains short text descriptions of each movie’s plot.\n",
    "To understand whether these texts can help us infer genres, I applied text preprocessing and extracted the most frequent words per genre.\n",
    "\n",
    "**Preprocessing Steps**\n",
    "\n",
    "- Converted all text to lowercase (to avoid duplicates like \"Love\" vs. \"love\").\n",
    "- Removed punctuation and numbers, keeping only alphabetic characters.\n",
    "- Applied a Bag of Words (CountVectorizer) representation with the top 5000 most frequent words.\n",
    "- Excluded common English stopwords (e.g., \"the\", \"and\", \"is\").\n",
    "This allowed us to convert the free-text \"Overview\" into structured features.\n",
    "\n",
    "**Genre Filtering**\n",
    "\n",
    "Movies often belong to multiple genres (e.g., \"Comedy, Drama\"). So, similarly as I did by creating 'Genre_list', I split the Genre column and built counters to identify the Top 10 most frequent genres in the dataset."
   ]
  },
  {
   "cell_type": "code",
   "execution_count": null,
   "id": "307805e9-083a-4859-94b4-5b2b928dc405",
   "metadata": {},
   "outputs": [],
   "source": [
    "from sklearn.feature_extraction.text import CountVectorizer\n",
    "from collections import Counter\n",
    "\n",
    "# Preprocessing helper\n",
    "def clean_text(text):\n",
    "    text = str(text).lower()\n",
    "    text = re.sub(r'[^a-zA-Z\\s]', '', text)  # remove punctuation/numbers\n",
    "    return text\n",
    "\n",
    "# Clean Overview\n",
    "df['Overview_clean'] = df['Overview'].fillna('').apply(clean_text)\n",
    "\n",
    "# Bag of Words\n",
    "vectorizer = CountVectorizer(stop_words='english', max_features=5000)\n",
    "X = vectorizer.fit_transform(df['Overview_clean'])\n",
    "bow = pd.DataFrame(X.toarray(), columns=vectorizer.get_feature_names_out())\n",
    "\n",
    "# Count movies per genre\n",
    "genre_counter = Counter()\n",
    "for g in df['Genre'].dropna():\n",
    "    for genre in g.split(','):\n",
    "        genre_counter[genre.strip()] += 1\n",
    "\n",
    "# Top 10 genres\n",
    "top_genres = [g for g,_ in genre_counter.most_common(10)]\n",
    "print(\"Top 10 genres:\", top_genres)\n",
    "\n",
    "# Print top 10 most frequent words for each top genre\n",
    "print(\"\\nTop 10 words per genre:\\n\")\n",
    "for genre in top_genres:\n",
    "    mask = df['Genre'].str.contains(genre, na=False)\n",
    "    genre_words = bow[mask].sum().sort_values(ascending=False)\n",
    "    top_words = genre_words.head(20).index.tolist()\n",
    "    print(f\"{genre}: {', '.join(top_words)}\")\n",
    "    print('---')"
   ]
  },
  {
   "cell_type": "markdown",
   "id": "a19970f6-fa3f-47ff-bca2-b43169eafce4",
   "metadata": {},
   "source": [
    "#### Answering the Question\n",
    "\n",
    "1. The Overview column provides a textual summary of each movie, describing its plot, characters, setting, and main events. By analyzing the most frequent words in the overviews for the top 10 genres, we can identify common themes and elements associated with each genre.\n",
    "\n",
    "    For example:\n",
    "    - Drama: Words like young, man, life, world, story, family indicate that drama movies often focus on human relationships, personal struggles, and life events.\n",
    "    - Comedy: Words like friends, funny, school, girl, family suggest humorous, lighthearted situations often centered on social interactions.\n",
    "    - Crime: Words like murder, police, killer, crime, investigation point to themes of law, criminal activity, and suspense.\n",
    "    - Adventure / Action: Words such as war, journey, team, save, battle show that these movies involve quests, conflict, and high-stakes scenarios.\n",
    "    - Romance: Words like love, woman, man, falls, friendship highlight relationship-focused plots.\n",
    "    - Animation: Words like princess, toy, home, friends, quest indicate family-friendly, imaginative stories.\n",
    "    \n",
    "    These frequent words summarize the core themes, characters, and plot elements in each genre and highlight the distinct “signature vocabulary” of different types of movies.\n",
    "\n",
    "2. Can Genre Be Inferred from the Overview?\n",
    "\n",
    "    Yes. The analysis shows that each genre has distinctive keywords that appear repeatedly in its overviews, crime movies consistently mention words related to law, murder, and investigation, romance and drama frequently contain words about love, family, and relationships, adventure and action contain words about journeys, battles, or missions.\n",
    "    \n",
    "    This implies that it is possible to infer the genre from the overview, at least to some extent. A text-based model (like a bag-of-words or TF-IDF classifier) could be trained on these overviews to predict genres, especially for genres with strong thematic vocabulary.\n",
    "    \n",
    "    By analyzing frequent words, we can identify the genre with reasonable accuracy and gain insights into the plot structure, character focus, and typical story elements for each type of movie."
   ]
  },
  {
   "cell_type": "markdown",
   "id": "9d2cffd0-5271-407b-a33d-60a2fe83590b",
   "metadata": {},
   "source": [
    "# Prediction Model"
   ]
  },
  {
   "cell_type": "markdown",
   "id": "70ed7698-f344-4cf4-ac31-6dfe7b2f5ea8",
   "metadata": {},
   "source": [
    "### HistGradientBoostingRegressor"
   ]
  },
  {
   "cell_type": "markdown",
   "id": "18326592-8eb5-45a1-94b8-b070786868b8",
   "metadata": {},
   "source": [
    "Since the target variable (`IMDB_Rating`) is continuous, this is a regression problem.  \n",
    "For this task, I selected the **HistGradientBoostingRegressor**, an implementation of gradient boosting that is optimized for speed and efficiency. It is particularly well-suited for structured/tabular datasets with a mix of numerical and categorical features, like the IMDb dataset.\n",
    "\n",
    "From the EDA, the variables that orrelate with IMDB_Rating are:\n",
    "\n",
    "- **Numerical predictors:**  \n",
    "    - Released_Year: could matter (older classics vs newer).\n",
    "    - Runtime: must be converted from \"142 min\" → integer minutes.\n",
    "    - Meta_score: strongly correlated with IMDB_Rating.\n",
    "    - No_of_Votes: popularity tends to correlate with higher ratings.\n",
    "    - Gross:  needs cleaning (remove commas, convert to float).  \n",
    "\n",
    "\n",
    "- **Categorical predictors:**  \n",
    "    - Certificate: encode as categorical.\n",
    "    - Genre: split into multiple genres (multi-hot encoding).\n",
    "    - Director, Stars: high-cardinality; use frequency encoding or just consider top N frequent ones.\n",
    "\n",
    "\n",
    "**Variables Transformations and Preprocessing:**\n",
    "- Cleaned and transformed `Runtime`, `Gross`, and `Released_Year` into numeric values.\n",
    "- Scaled numerical variables (`Released_Year`, `Runtime`, `Meta_score`, `No_of_Votes`, `Gross`).\n",
    "- One-hot encoded categorical variables (`Certificate`, `Genre`, `Director`, `Star1–Star4`).\n",
    "- Built a preprocessing pipeline with `ColumnTransformer` to ensure reproducibility and avoid data leakage.\n",
    "\n",
    "\n",
    "**Choice of model**\n",
    "This model uses histogram-based binning, making training significantly faster and more memory-efficient than traditional gradient boosting, also the model natively supports missing values in numerical features, which makes preprocessing simpler. It handles non-linear relationships and complex feature interactions better than linear models.\n",
    "\n",
    "**Model Parameters:**\n",
    "- `max_iter=300`: number of boosting iterations.\n",
    "- `learning_rate=0.05`: shrinkage factor, balancing bias and variance.\n",
    "- `max_depth=6`: controls tree complexity to prevent overfitting.\n",
    "- `random_state=42`: ensures reproducibility."
   ]
  },
  {
   "cell_type": "code",
   "execution_count": null,
   "id": "e280fc08-7f92-4598-983a-afc802afb335",
   "metadata": {},
   "outputs": [],
   "source": [
    "from sklearn.model_selection import train_test_split\n",
    "from sklearn.preprocessing import OneHotEncoder, StandardScaler\n",
    "from sklearn.compose import ColumnTransformer\n",
    "from sklearn.pipeline import Pipeline\n",
    "from sklearn.ensemble import HistGradientBoostingRegressor\n",
    "from sklearn.metrics import mean_squared_error, root_mean_squared_error\n",
    "from sklearn.metrics import r2_score\n",
    "import joblib\n",
    "\n",
    "# Load data\n",
    "df = pd.read_csv(\"desafio_indicium_imdb.csv\")\n",
    "\n",
    "# Transformations\n",
    "# Clean runtime\n",
    "df['Runtime'] = df['Runtime'].str.extract(r'(\\d+)').astype(float)\n",
    "\n",
    "# Clean Gross\n",
    "df['Gross'] = df['Gross'].replace(',', '', regex=True)\n",
    "df['Gross'] = pd.to_numeric(df['Gross'], errors='coerce')\n",
    "\n",
    "# Handle Released_Year\n",
    "df['Released_Year'] = pd.to_numeric(df['Released_Year'], errors='coerce')\n",
    "\n",
    "# Select features\n",
    "features = ['Released_Year','Runtime','Certificate','Genre','Meta_score',\n",
    "            'Director','Star1','Star2','Star3','Star4','No_of_Votes','Gross']\n",
    "target = 'IMDB_Rating'\n",
    "\n",
    "X = df[features]\n",
    "y = df[target]\n",
    "\n",
    "# Train/test split\n",
    "X_train, X_test, y_train, y_test = train_test_split(X, y, test_size=0.2, random_state=42)\n",
    "\n",
    "# Preprocessing\n",
    "numeric_features = ['Released_Year','Runtime','Meta_score','No_of_Votes','Gross']\n",
    "categorical_features = ['Certificate','Genre','Director','Star1','Star2','Star3','Star4']\n",
    "\n",
    "# HistGradientBoosting handles missing values natively, but not raw strings.\n",
    "# We'll encode categoricals as one-hot.\n",
    "numeric_transformer = StandardScaler()\n",
    "categorical_transformer = OneHotEncoder(handle_unknown='ignore',sparse_output=False)\n",
    "\n",
    "preprocessor = ColumnTransformer(\n",
    "    transformers=[\n",
    "        ('num', numeric_transformer, numeric_features),\n",
    "        ('cat', categorical_transformer, categorical_features)\n",
    "    ])\n",
    "\n",
    "# Model pipeline\n",
    "modelH = Pipeline(steps=[\n",
    "    ('preprocessor', preprocessor),\n",
    "    ('regressor', HistGradientBoostingRegressor(\n",
    "        max_iter=300,        # number of boosting iterations\n",
    "        learning_rate=0.05,  # shrinkage\n",
    "        max_depth=6,         # tree depth\n",
    "        random_state=42))\n",
    "])\n",
    "\n",
    "# Train\n",
    "modelH.fit(X_train, y_train)\n",
    "\n",
    "# Evaluate\n",
    "y_pred = modelH.predict(X_test)\n",
    "rmse = root_mean_squared_error(y_test, y_pred)\n",
    "mse = mean_squared_error(y_test, y_pred)\n",
    "r2 = r2_score(y_test, y_pred)\n",
    "\n",
    "print(f\"R²: {r2:.3f}\")\n",
    "print(f\"MSE: {mse:.4f}\")\n",
    "print(f\"RMSE: {rmse:.3f}\")"
   ]
  },
  {
   "cell_type": "markdown",
   "id": "5724f101-241d-4ef8-ae18-d1b8f79e7d2e",
   "metadata": {},
   "source": [
    "**Evaluation Metrics:**\n",
    "- **R² = 0.388** → The model explains ~39% of the variance in IMDb ratings.\n",
    "- **MSE = 0.0401** → On average, squared prediction errors are ~0.04 points.\n",
    "- **RMSE = 0.200** → Predictions deviate from the true IMDb rating by ~0.2 on the 1–10 scale.\n",
    "\n",
    "Although the R² value indicates there is room for improvement, the RMSE of **0.20** shows that the model is fairly precise in predicting IMDb ratings, given the complexity of human perception of movies. This performance is acceptable as a first predictive approach, especially considering the high variability in audience preferences and qualitative factors not fully captured in the dataset."
   ]
  },
  {
   "cell_type": "code",
   "execution_count": null,
   "id": "7a40c693-bfa3-4f07-9c84-e56da7e1857e",
   "metadata": {},
   "outputs": [],
   "source": [
    "# Saving model\n",
    "joblib.dump(modelH, \"model_hgb.pkl\")"
   ]
  },
  {
   "cell_type": "markdown",
   "id": "cde5ef20-3089-41ba-b690-33403cc4f985",
   "metadata": {},
   "source": [
    "#### Predicting IMDB Rating using HistGradientBoostingRegressor"
   ]
  },
  {
   "cell_type": "code",
   "execution_count": null,
   "id": "99a5b1a5-fe8a-4c61-84c1-a45c4d4747e5",
   "metadata": {},
   "outputs": [],
   "source": [
    "shawshank = {\n",
    "    'Released_Year': 1994,\n",
    "    'Runtime': 142,\n",
    "    'Certificate': 'A',\n",
    "    'Genre': 'Drama',\n",
    "    'Meta_score': 80.0,\n",
    "    'Director': 'Frank Darabont',\n",
    "    'Star1': 'Tim Robbins',\n",
    "    'Star2': 'Morgan Freeman',\n",
    "    'Star3': 'Bob Gunton',\n",
    "    'Star4': 'William Sadler',\n",
    "    'No_of_Votes': 2343110,\n",
    "    'Gross': 28341469\n",
    "}\n",
    "\n",
    "shawshank_df = pd.DataFrame([shawshank])\n",
    "predicted_rating = modelH.predict(shawshank_df)[0]\n",
    "print(f\"Predicted IMDb Rating (HistGradientBR): {predicted_rating:.2f}\")"
   ]
  },
  {
   "cell_type": "markdown",
   "id": "579d0ced-5dc1-4541-a317-e7627d8daecf",
   "metadata": {},
   "source": [
    "### GradientBoostingRegressor"
   ]
  },
  {
   "cell_type": "markdown",
   "id": "64cc7627-2f47-449b-a748-c6bcf24fd271",
   "metadata": {},
   "source": [
    "**Choice of model**\n",
    "- Captures non-linearities better than linear models.\n",
    "- Handles feature interactions automatically.\n",
    "- Parameters used:\n",
    "  - `n_estimators=500`: number of boosting stages (trees).\n",
    "  - `learning_rate=0.05`: step size shrinkage to prevent overfitting.\n",
    "  - `max_depth=4`: controls the complexity of each tree.\n",
    "- This model requires preprocessed input (scaling + one-hot encoding), which I handled with a `ColumnTransformer` inside a pipeline.\n",
    "- I had to include `X = X.dropna(); y = y.loc[X.index]`, since it does not handle well missing values."
   ]
  },
  {
   "cell_type": "code",
   "execution_count": null,
   "id": "fe5def57-e5b2-4d49-b340-c7fe1e8a2f3a",
   "metadata": {},
   "outputs": [],
   "source": [
    "from sklearn.ensemble import GradientBoostingRegressor\n",
    "\n",
    "# Load data\n",
    "df = pd.read_csv(\"desafio_indicium_imdb.csv\")\n",
    "\n",
    "# Transformations\n",
    "# Clean runtime\n",
    "df['Runtime'] = df['Runtime'].str.extract(r'(\\d+)').astype(float)\n",
    "\n",
    "# Clean Gross\n",
    "df['Gross'] = df['Gross'].replace(',', '', regex=True)\n",
    "df['Gross'] = pd.to_numeric(df['Gross'], errors='coerce')\n",
    "\n",
    "# Handle Released_Year\n",
    "df['Released_Year'] = pd.to_numeric(df['Released_Year'], errors='coerce')\n",
    "\n",
    "# Select features\n",
    "features = ['Released_Year','Runtime','Certificate','Genre','Meta_score',\n",
    "            'Director','Star1','Star2','Star3','Star4','No_of_Votes','Gross']\n",
    "target = 'IMDB_Rating'\n",
    "\n",
    "X = df[features]\n",
    "y = df[target]\n",
    "\n",
    "X = X.dropna()\n",
    "y = y.loc[X.index]\n",
    "\n",
    "# Train/test split\n",
    "X_train, X_test, y_train, y_test = train_test_split(X, y, test_size=0.2, random_state=42)\n",
    "\n",
    "# Preprocessing\n",
    "numeric_features = ['Released_Year','Runtime','Meta_score','No_of_Votes','Gross']\n",
    "categorical_features = ['Certificate','Genre','Director','Star1','Star2','Star3','Star4']\n",
    "\n",
    "numeric_transformer = StandardScaler()\n",
    "categorical_transformer = OneHotEncoder(handle_unknown='ignore')\n",
    "\n",
    "preprocessor = ColumnTransformer(\n",
    "    transformers=[\n",
    "        ('num', numeric_transformer, numeric_features),\n",
    "        ('cat', categorical_transformer, categorical_features)\n",
    "    ])\n",
    "\n",
    "# Model pipeline with Gradient Boosting\n",
    "modelG = Pipeline(steps=[\n",
    "    ('preprocessor', preprocessor),\n",
    "    ('regressor', GradientBoostingRegressor(\n",
    "        n_estimators=500,      # number of trees\n",
    "        learning_rate=0.05,    # shrinkage\n",
    "        max_depth=4,           # depth of each tree\n",
    "        random_state=42))\n",
    "])\n",
    "\n",
    "# Train\n",
    "modelG.fit(X_train, y_train)\n",
    "\n",
    "# Evaluate\n",
    "y_pred = modelG.predict(X_test)\n",
    "rmse = root_mean_squared_error(y_test, y_pred)\n",
    "mse = mean_squared_error(y_test, y_pred)\n",
    "r2 = r2_score(y_test, y_pred)\n",
    "\n",
    "print(f\"R²: {r2:.3f}\")\n",
    "print(f\"MSE: {mse:.4f}\")\n",
    "print(f\"RMSE: {rmse:.3f}\")"
   ]
  },
  {
   "cell_type": "markdown",
   "id": "a1506bb2-b16e-4982-819b-c158b592756f",
   "metadata": {},
   "source": [
    "**Evaluation Metrics:**\n",
    "- **R² = 0.534**: The model explains ~53% of the variance in IMDb ratings.\n",
    "- **MSE = 0.0390**: On average, squared prediction errors are ~0.039 points.\n",
    "- **RMSE = 0.197**: Predictions deviate from the true IMDb rating by ~0.20 on the 1–10 scale.\n",
    "\n",
    "With an R² of 0.53, the model captures over half of the variability in IMDb ratings, indicating a moderately strong fit. The RMSE of 0.197 suggests that predictions are fairly close to actual ratings."
   ]
  },
  {
   "cell_type": "code",
   "execution_count": null,
   "id": "54515833-4733-4bed-851a-38de4201737b",
   "metadata": {},
   "outputs": [],
   "source": [
    "# Saving model\n",
    "joblib.dump(modelG, \"model_gb.pkl\")"
   ]
  },
  {
   "cell_type": "markdown",
   "id": "a0f44ee4-2f91-4e58-971e-6d2c4cac6ff7",
   "metadata": {},
   "source": [
    "#### Predicting IMDB Rating using GradientBoostingRegressor"
   ]
  },
  {
   "cell_type": "code",
   "execution_count": null,
   "id": "4371e448-25a3-4693-8837-f2250331025d",
   "metadata": {},
   "outputs": [],
   "source": [
    "shawshank = {\n",
    "    'Released_Year': 1994,\n",
    "    'Runtime': 142,\n",
    "    'Certificate': 'A',\n",
    "    'Genre': 'Drama',\n",
    "    'Meta_score': 80.0,\n",
    "    'Director': 'Frank Darabont',\n",
    "    'Star1': 'Tim Robbins',\n",
    "    'Star2': 'Morgan Freeman',\n",
    "    'Star3': 'Bob Gunton',\n",
    "    'Star4': 'William Sadler',\n",
    "    'No_of_Votes': 2343110,\n",
    "    'Gross': 28341469\n",
    "}\n",
    "\n",
    "shawshank_df = pd.DataFrame([shawshank])\n",
    "predicted_rating = modelG.predict(shawshank_df)[0]\n",
    "print(f\"Predicted IMDb Rating (GradientBR): {predicted_rating:.2f}\")"
   ]
  },
  {
   "cell_type": "markdown",
   "id": "0c125963-4caf-4e82-a580-548557995cfd",
   "metadata": {},
   "source": [
    "**Comparison**\n",
    "- While **HistGradientBoostingRegressor** is more scalable and efficient, in this dataset the classic **GradientBoostingRegressor** achieved better predictive performance, with a notably higher R² (0.534 vs. 0.388) and slightly lower RMSE (0.197 vs. 0.200).\n",
    "- This difference may be explained by the relatively small dataset size, where the efficiency advantages of histogram-based methods are less relevant, and the more traditional boosting approach benefits from deeper optimization.\n",
    "- Both models show reasonable predictive power, but **GradientBoostingRegressor currently provides the best fit** for this problem.\n",
    "\n",
    "**Conclusion**  \n",
    "By testing multiple boosting approaches, I was able to confirm that ensemble methods outperform simpler baselines for predicting IMDb scores. GradientBoostingRegressor will be kept as the primary model, while HistGradientBoostingRegressor remains a strong alternative for larger datasets or scenarios requiring faster training."
   ]
  }
 ],
 "metadata": {
  "kernelspec": {
   "display_name": "Python [conda env:base] *",
   "language": "python",
   "name": "conda-base-py"
  },
  "language_info": {
   "codemirror_mode": {
    "name": "ipython",
    "version": 3
   },
   "file_extension": ".py",
   "mimetype": "text/x-python",
   "name": "python",
   "nbconvert_exporter": "python",
   "pygments_lexer": "ipython3",
   "version": "3.12.7"
  }
 },
 "nbformat": 4,
 "nbformat_minor": 5
}
